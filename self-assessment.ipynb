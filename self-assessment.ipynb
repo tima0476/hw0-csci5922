{
 "cells": [
  {
   "cell_type": "markdown",
   "metadata": {},
   "source": [
    "# Task\n",
    "\n",
    "[Matrix multiplication](https://en.wikipedia.org/wiki/Matrix_multiplication) is a fundamental linear algebraic operation, working knowledge of which is a prerequisite to understanding modern neural networks. In this assignment, you will implement matrix multiplication in pure Python (`python_matmul`) and in Python using NumPy (`numpy_matmul`). Skeletal versions of the two functions are provided in the included Python source file.\n",
    "\n",
    "This assignment is an opportunity for you to assess your preparedness for the course. It does not count towards your final grade."
   ]
  },
  {
   "cell_type": "code",
   "execution_count": null,
   "metadata": {},
   "outputs": [],
   "source": [
    "import numpy as np"
   ]
  },
  {
   "cell_type": "code",
   "execution_count": null,
   "metadata": {},
   "outputs": [],
   "source": [
    "def python_matmul(X, Y):\n",
    "    \"\"\"\n",
    "    Multiply 2-dimensional numpy arrays using pure Python.\n",
    "\n",
    "    Parameters\n",
    "    ----------\n",
    "    X : list\n",
    "        A list of M elements, each of which is an N-element list.\n",
    "    Y : list\n",
    "        A list of N elements, each of which is a K-element list.\n",
    "\n",
    "    Returns\n",
    "    ----------\n",
    "    A list of M elements, each of which is a K-element list.\n",
    "    \"\"\"\n",
    "    if not isinstance(X, list):\n",
    "        raise ValueError('X must be list')\n",
    "    if not isinstance(Y, list):\n",
    "        raise ValueError('Y must be list')\n",
    "    if not isinstance(X[0], list):\n",
    "        raise ValueError('X must be 2-dimensional')\n",
    "    if not isinstance(Y[0], list):\n",
    "        raise ValueError('Y must be 2-dimensional')\n",
    "    if not len(X[0]) == len(Y):\n",
    "        raise ValueError('Column length of X must equal row length of Y')\n",
    "\n",
    "    raise NotImplementedError()"
   ]
  },
  {
   "cell_type": "code",
   "execution_count": null,
   "metadata": {},
   "outputs": [],
   "source": [
    "def numpy_matmul(X, Y):\n",
    "    \"\"\"\n",
    "    Multiply 2-dimensional numpy arrays using PEP-0465 infix operator.\n",
    "\n",
    "    Parameters\n",
    "    ----------\n",
    "    X : np.ndarray\n",
    "        An MxN array.\n",
    "    Y : np.ndarray\n",
    "        An NxK array.\n",
    "\n",
    "    Returns\n",
    "    ----------\n",
    "    An MxK array.\n",
    "    \"\"\"\n",
    "    \n",
    "    if not isinstance(X, np.ndarray):\n",
    "        raise ValueError('X must be ndarray')\n",
    "    if not isinstance(Y, np.ndarray):\n",
    "        raise ValueError('Y must be ndarray')\n",
    "    if not X.ndim == 2:\n",
    "        raise ValueError('X must be 2-dimensional')\n",
    "    if not Y.ndim == 2:\n",
    "        raise ValueError('Y must be 2-dimensional')\n",
    "    if X.shape[1] != Y.shape[0]:\n",
    "        raise ValueError(\n",
    "            'Columns of X ({:d}) must equal rows of Y ({:d}'.format(\n",
    "                X.shape[1], Y.shape[0]))\n",
    "\n",
    "    raise NotImplementedError()"
   ]
  },
  {
   "cell_type": "markdown",
   "metadata": {},
   "source": [
    "# Survey\n",
    "Briefly describe your (research) interest in deep learning/machine learning in the cell below."
   ]
  },
  {
   "cell_type": "markdown",
   "metadata": {},
   "source": []
  }
 ],
 "metadata": {
  "kernelspec": {
   "display_name": "Python 3",
   "language": "python",
   "name": "python3"
  },
  "language_info": {
   "codemirror_mode": {
    "name": "ipython",
    "version": 3
   },
   "file_extension": ".py",
   "mimetype": "text/x-python",
   "name": "python",
   "nbconvert_exporter": "python",
   "pygments_lexer": "ipython3",
   "version": "3.7.6"
  }
 },
 "nbformat": 4,
 "nbformat_minor": 2
}
