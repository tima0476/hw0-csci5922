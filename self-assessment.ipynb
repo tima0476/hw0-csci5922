{
 "cells": [
  {
   "cell_type": "markdown",
   "metadata": {
    "colab_type": "text",
    "id": "view-in-github"
   },
   "source": [
    "<a href=\"https://colab.research.google.com/github/tima0476/hw0-csci5922/blob/master/self-assessment.ipynb\" target=\"_parent\"><img src=\"https://colab.research.google.com/assets/colab-badge.svg\" alt=\"Open In Colab\"/></a>"
   ]
  },
  {
   "cell_type": "markdown",
   "metadata": {
    "colab_type": "text",
    "id": "pLo_t9DOgwTC"
   },
   "source": [
    "# Timothy Mason\n",
    "\n",
    "[Matrix multiplication](https://en.wikipedia.org/wiki/Matrix_multiplication) is a fundamental linear algebraic operation, working knowledge of which is a prerequisite to understanding modern neural networks. In this assignment, you will implement matrix multiplication in pure Python (`python_matmul`) and in Python using NumPy (`numpy_matmul`). Skeletal versions of the two functions are provided in the included Python source file.\n",
    "\n",
    "This assignment is an opportunity for you to assess your preparedness for the course. It does not count towards your final grade."
   ]
  },
  {
   "cell_type": "code",
   "execution_count": 1,
   "metadata": {
    "colab": {},
    "colab_type": "code",
    "id": "LM8oT-N7gwTF"
   },
   "outputs": [],
   "source": [
    "import numpy as np"
   ]
  },
  {
   "cell_type": "code",
   "execution_count": 2,
   "metadata": {
    "colab": {},
    "colab_type": "code",
    "id": "B6m5nxOCgwTI"
   },
   "outputs": [],
   "source": [
    "def python_matmul(X, Y):\n",
    "    \"\"\"\n",
    "    Multiply 2-dimensional list arrays using pure Python.\n",
    "\n",
    "    Parameters\n",
    "    ----------\n",
    "    X : list\n",
    "    A list of M elements, each of which is an N-element list.\n",
    "    Y : list\n",
    "    A list of N elements, each of which is a K-element list.\n",
    "\n",
    "    Returns\n",
    "    ----------\n",
    "    A list of M elements, each of which is a K-element list.\n",
    "    \"\"\"\n",
    "    if not isinstance(X, list):\n",
    "        raise ValueError('X must be list')\n",
    "    if not isinstance(Y, list):\n",
    "        raise ValueError('Y must be list')\n",
    "    if not isinstance(X[0], list):\n",
    "        raise ValueError('X must be 2-dimensional')\n",
    "    if not isinstance(Y[0], list):\n",
    "        raise ValueError('Y must be 2-dimensional')\n",
    "    if not len(X[0]) == len(Y):\n",
    "        raise ValueError('Column length of X must equal row length of Y')\n",
    "\n",
    "    # Create a 2-dim array of zeros.  Must use iteration to avoid reference sharing.\n",
    "    r = [[0]*len(Y[0]) for _ in range(len(X))]\n",
    " \n",
    "    for i in range(len(X)):\n",
    "        for j in range(len(Y[0])):\n",
    "            for k in range(len(Y)):\n",
    "                r[i][j] += X[i][k] * Y[k][j]\n",
    "\n",
    "    return r\n"
   ]
  },
  {
   "cell_type": "code",
   "execution_count": 3,
   "metadata": {
    "colab": {},
    "colab_type": "code",
    "id": "zQplGRjDgwTL"
   },
   "outputs": [],
   "source": [
    "def numpy_matmul(X, Y):\n",
    "    \"\"\"\n",
    "    Multiply 2-dimensional numpy arrays using PEP-0465 infix operator.\n",
    "\n",
    "    Parameters\n",
    "    ----------\n",
    "    X : np.ndarray\n",
    "        An MxN array.\n",
    "    Y : np.ndarray\n",
    "        An NxK array.\n",
    "\n",
    "    Returns\n",
    "    ----------\n",
    "    An MxK array.\n",
    "    \"\"\"\n",
    "    \n",
    "    if not isinstance(X, np.ndarray):\n",
    "        raise ValueError('X must be ndarray')\n",
    "    if not isinstance(Y, np.ndarray):\n",
    "        raise ValueError('Y must be ndarray')\n",
    "    if not X.ndim == 2:\n",
    "        raise ValueError('X must be 2-dimensional')\n",
    "    if not Y.ndim == 2:\n",
    "        raise ValueError('Y must be 2-dimensional')\n",
    "    if X.shape[1] != Y.shape[0]:\n",
    "        raise ValueError(\n",
    "            'Columns of X ({:d}) must equal rows of Y ({:d}'.format(\n",
    "                X.shape[1], Y.shape[0]))\n",
    "\n",
    "    # numpy makes this easy\n",
    "    return X @ Y        # '@' is the new PEP-0465 infix operator."
   ]
  },
  {
   "cell_type": "markdown",
   "metadata": {
    "colab_type": "text",
    "id": "Xt423BN9gwTO"
   },
   "source": [
    "# Survey\n",
    "Briefly describe your (research) interest in deep learning/machine learning in the cell below."
   ]
  },
  {
   "cell_type": "markdown",
   "metadata": {
    "colab_type": "text",
    "id": "SpUNnukcgwTP"
   },
   "source": [
    "I am a part time student pursuing a course-based MS in Computer Science, so I don't specifically have a research interest.  \n",
    "\n",
    "I work full-time as a Firmware Engineer for a large manufacturer of Hard Disc Drives (HDD's).  Specifically, I work in the division which produces scripts and firmware for the automated calibration and certification testing of HDD's in high-volume mass production.  My interest in Machine Learning revolves around finding methods to improve any combination of: product quality,  production yields, and/or manufacturing test time for the HDD units produced in our manufacturing facilities.  \n",
    "\n",
    "Note:  Due to the constraints on my time and availability as a part time student, and due to the potential for \"company confidential\" information being used in my project, I intend to work solo."
   ]
  }
 ],
 "metadata": {
  "colab": {
   "include_colab_link": true,
   "name": "self-assessment.ipynb",
   "provenance": []
  },
  "kernelspec": {
   "display_name": "Python 3",
   "language": "python",
   "name": "python3"
  },
  "language_info": {
   "codemirror_mode": {
    "name": "ipython",
    "version": 3
   },
   "file_extension": ".py",
   "mimetype": "text/x-python",
   "name": "python",
   "nbconvert_exporter": "python",
   "pygments_lexer": "ipython3",
   "version": "3.7.6"
  }
 },
 "nbformat": 4,
 "nbformat_minor": 1
}
