{
  "nbformat": 4,
  "nbformat_minor": 0,
  "metadata": {
    "kernelspec": {
      "display_name": "Python 3",
      "language": "python",
      "name": "python3"
    },
    "language_info": {
      "codemirror_mode": {
        "name": "ipython",
        "version": 3
      },
      "file_extension": ".py",
      "mimetype": "text/x-python",
      "name": "python",
      "nbconvert_exporter": "python",
      "pygments_lexer": "ipython3",
      "version": "3.7.6"
    },
    "colab": {
      "name": "self-assessment.ipynb",
      "provenance": []
    }
  },
  "cells": [
    {
      "cell_type": "markdown",
      "metadata": {
        "id": "pLo_t9DOgwTC",
        "colab_type": "text"
      },
      "source": [
        "# Task\n",
        "\n",
        "[Matrix multiplication](https://en.wikipedia.org/wiki/Matrix_multiplication) is a fundamental linear algebraic operation, working knowledge of which is a prerequisite to understanding modern neural networks. In this assignment, you will implement matrix multiplication in pure Python (`python_matmul`) and in Python using NumPy (`numpy_matmul`). Skeletal versions of the two functions are provided in the included Python source file.\n",
        "\n",
        "This assignment is an opportunity for you to assess your preparedness for the course. It does not count towards your final grade."
      ]
    },
    {
      "cell_type": "code",
      "metadata": {
        "id": "LM8oT-N7gwTF",
        "colab_type": "code",
        "colab": {}
      },
      "source": [
        "import numpy as np"
      ],
      "execution_count": 0,
      "outputs": []
    },
    {
      "cell_type": "code",
      "metadata": {
        "id": "B6m5nxOCgwTI",
        "colab_type": "code",
        "colab": {}
      },
      "source": [
        "def python_matmul(X, Y):\n",
        "    \"\"\"\n",
        "    Multiply 2-dimensional list arrays using pure Python.\n",
        "\n",
        "    Parameters\n",
        "    ----------\n",
        "    X : list\n",
        "    A list of M elements, each of which is an N-element list.\n",
        "    Y : list\n",
        "    A list of N elements, each of which is a K-element list.\n",
        "\n",
        "    Returns\n",
        "    ----------\n",
        "    A list of M elements, each of which is a K-element list.\n",
        "    \"\"\"\n",
        "    if not isinstance(X, list):\n",
        "        raise ValueError('X must be list')\n",
        "    if not isinstance(Y, list):\n",
        "        raise ValueError('Y must be list')\n",
        "    if not isinstance(X[0], list):\n",
        "        raise ValueError('X must be 2-dimensional')\n",
        "    if not isinstance(Y[0], list):\n",
        "        raise ValueError('Y must be 2-dimensional')\n",
        "    if not len(X[0]) == len(Y):\n",
        "        raise ValueError('Column length of X must equal row length of Y')\n",
        "\n",
        "    # Create a 2-dim array of zeros.  Must use iteration to avoid reference sharing.\n",
        "    r = [[0]*len(Y[0]) for _ in range(len(X))]\n",
        " \n",
        "    for i in range(len(X)):\n",
        "        for j in range(len(Y[0])):\n",
        "            for k in range(len(Y)):\n",
        "                r[i][j] += X[i][k] * Y[k][j]\n",
        "\n",
        "    return r\n"
      ],
      "execution_count": 0,
      "outputs": []
    },
    {
      "cell_type": "code",
      "metadata": {
        "id": "zQplGRjDgwTL",
        "colab_type": "code",
        "colab": {}
      },
      "source": [
        "def numpy_matmul(X, Y):\n",
        "    \"\"\"\n",
        "    Multiply 2-dimensional numpy arrays using PEP-0465 infix operator.\n",
        "\n",
        "    Parameters\n",
        "    ----------\n",
        "    X : np.ndarray\n",
        "        An MxN array.\n",
        "    Y : np.ndarray\n",
        "        An NxK array.\n",
        "\n",
        "    Returns\n",
        "    ----------\n",
        "    An MxK array.\n",
        "    \"\"\"\n",
        "    \n",
        "    if not isinstance(X, np.ndarray):\n",
        "        raise ValueError('X must be ndarray')\n",
        "    if not isinstance(Y, np.ndarray):\n",
        "        raise ValueError('Y must be ndarray')\n",
        "    if not X.ndim == 2:\n",
        "        raise ValueError('X must be 2-dimensional')\n",
        "    if not Y.ndim == 2:\n",
        "        raise ValueError('Y must be 2-dimensional')\n",
        "    if X.shape[1] != Y.shape[0]:\n",
        "        raise ValueError(\n",
        "            'Columns of X ({:d}) must equal rows of Y ({:d}'.format(\n",
        "                X.shape[1], Y.shape[0]))\n",
        "\n",
        "    # numpy makes this easy\n",
        "    return X.dot(Y)"
      ],
      "execution_count": 0,
      "outputs": []
    },
    {
      "cell_type": "code",
      "metadata": {
        "id": "KEUrAJUJckSX",
        "colab_type": "code",
        "colab": {
          "base_uri": "https://localhost:8080/",
          "height": 125
        },
        "outputId": "fd2d95e7-2f3c-41e3-fd40-b624696628a3"
      },
      "source": [
        "# Test Code for matrix multiplication routines\n",
        "X = [[1, 2, 3, 4],\n",
        "     [5, 6, 7, 8],\n",
        "     [9,10,11,12]]\n",
        "\n",
        "Y = [[23,22,21,20,19,18],\n",
        "     [17,16,15,14,13,12],\n",
        "     [11,10, 9, 8, 7, 6],\n",
        "     [ 5, 4, 3, 2, 1, 0]]\n",
        "\n",
        "print(\"Python\")\n",
        "print(python_matmul(X,Y))\n",
        "\n",
        "print(\"numpy\")\n",
        "print(numpy_matmul(np.array(X), np.array(Y)))"
      ],
      "execution_count": 61,
      "outputs": [
        {
          "output_type": "stream",
          "text": [
            "Python\n",
            "[[110, 100, 90, 80, 70, 60], [334, 308, 282, 256, 230, 204], [558, 516, 474, 432, 390, 348]]\n",
            "numpy\n",
            "[[110 100  90  80  70  60]\n",
            " [334 308 282 256 230 204]\n",
            " [558 516 474 432 390 348]]\n"
          ],
          "name": "stdout"
        }
      ]
    },
    {
      "cell_type": "markdown",
      "metadata": {
        "id": "Xt423BN9gwTO",
        "colab_type": "text"
      },
      "source": [
        "# Survey\n",
        "Briefly describe your (research) interest in deep learning/machine learning in the cell below."
      ]
    },
    {
      "cell_type": "markdown",
      "metadata": {
        "id": "SpUNnukcgwTP",
        "colab_type": "text"
      },
      "source": [
        "I am a part time student pursuing a course-based MS in Computer Science, so I don't specifically have a research interest.  \n",
        "\n",
        "I work full-time as a Firmware Engineer for a large manufacturer of Hard Disc Drives (HDD's).  Specifically, I work in the division which produces scripts and firmware for the automated calibration and certification testing of HDD's in high-volume mass production.  My interest in Machine Learning revolves around finding methods to improve any combination of: product quality,  production yields, and/or manufacturing test time for the HDD units produced in our manufacturing facilities.  \n",
        "\n"
      ]
    }
  ]
}